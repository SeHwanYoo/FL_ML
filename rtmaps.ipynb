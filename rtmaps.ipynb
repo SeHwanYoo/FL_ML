{
 "cells": [
  {
   "cell_type": "code",
   "execution_count": 8,
   "metadata": {},
   "outputs": [
    {
     "ename": "NameError",
     "evalue": "name 'input_0' is not defined",
     "output_type": "error",
     "traceback": [
      "\u001b[1;31m---------------------------------------------------------------------------\u001b[0m",
      "\u001b[1;31mNameError\u001b[0m                                 Traceback (most recent call last)",
      "\u001b[1;32mC:\\Users\\SEHWAN~1\\AppData\\Local\\Temp/ipykernel_19584/60112927.py\u001b[0m in \u001b[0;36m<module>\u001b[1;34m\u001b[0m\n\u001b[0;32m      7\u001b[0m \u001b[1;31m# Python class that will be called from RTMaps.\u001b[0m\u001b[1;33m\u001b[0m\u001b[1;33m\u001b[0m\u001b[1;33m\u001b[0m\u001b[0m\n\u001b[0;32m      8\u001b[0m \u001b[1;33m\u001b[0m\u001b[0m\n\u001b[1;32m----> 9\u001b[1;33m \u001b[1;32mclass\u001b[0m \u001b[0mrtmaps_python\u001b[0m\u001b[1;33m(\u001b[0m\u001b[0minput_0\u001b[0m\u001b[1;33m,\u001b[0m \u001b[0mtimestamp\u001b[0m\u001b[1;33m)\u001b[0m\u001b[1;33m:\u001b[0m\u001b[1;33m\u001b[0m\u001b[1;33m\u001b[0m\u001b[0m\n\u001b[0m\u001b[0;32m     10\u001b[0m     \u001b[1;32mdef\u001b[0m \u001b[0m__init__\u001b[0m\u001b[1;33m(\u001b[0m\u001b[0mself\u001b[0m\u001b[1;33m)\u001b[0m\u001b[1;33m:\u001b[0m\u001b[1;33m\u001b[0m\u001b[1;33m\u001b[0m\u001b[0m\n\u001b[0;32m     11\u001b[0m         \u001b[0mself\u001b[0m\u001b[1;33m.\u001b[0m\u001b[0minput_0\u001b[0m \u001b[1;33m=\u001b[0m \u001b[0minput_0\u001b[0m\u001b[1;33m\u001b[0m\u001b[1;33m\u001b[0m\u001b[0m\n",
      "\u001b[1;31mNameError\u001b[0m: name 'input_0' is not defined"
     ]
    }
   ],
   "source": [
    "#This is a template code. Please save it in a proper .py file.\n",
    "# from rtmaps import*\n",
    "import ast\n",
    "import csv\n",
    "\n",
    "\n",
    "# Python class that will be called from RTMaps.\n",
    "\n",
    "class rtmaps_python(input_0, timestamp):\n",
    "    def __init__(self): \n",
    "        self.input_0 = input_0\n",
    "        self.timestamp = timestamp\n",
    "# self.out_data = []\n",
    "# Birth() will be called once at diagram execution startup\n",
    "\n",
    "    def Birth(self):\n",
    "    # print(\"Python Birth\")\n",
    "        pass\n",
    "\n",
    "\n",
    "    # Core() is called everytime you have a new input\n",
    "    def Core(self):\n",
    "        out_data0 = []\n",
    "        # print(self.timestamp)\n",
    "\n",
    "        if self.input_0[0] == 0x55 and self.input_0[1] == 85 and self.input_0[2] == 78 and self.input_0[3] == 49:\n",
    "            in_val = self.input_0\n",
    "            out_data0.extend(\"%q\" % self.timestamp)\n",
    "            out_data0.extend(\"%02x\" % in_val.data[5])\n",
    "            out_data0.extend(\"%02x \" % in_val.data[6])\n",
    "            out_data0.extend(\"%02x\" % in_val.data[7])\n",
    "            out_data0.extend(\"%02x \" % in_val.data[8])\n",
    "            out_data0.extend(\"%02x\" % in_val.data[9])\n",
    "            out_data0.extend(\"%02x \" % in_val.data[10])\n",
    "            out_data0.extend(\"%02x\" % in_val.data[11])\n",
    "            out_data0.extend(\"%02x \" % in_val.data[12])\n",
    "            out_data0.extend(\"%02x\" % in_val.data[13])\n",
    "            out_data0.extend(\"%02x \" % in_val.data[14])\n",
    "            out_data0.extend(\"%02x\" % in_val.data[15])\n",
    "            out_data0.extend(\"%02x \" % in_val.data[16])\n",
    "            out_data0.extend(\"%02x\" % in_val.data[17])\n",
    "            out_data0.extend(\"%02x \" % in_val.data[18])\n",
    "            out_data0.extend(\"%02x\" % in_val.data[19])\n",
    "            out_data0.extend(\"%02x \" % in_val.data[20])\n",
    "            out_data0.extend(\"%02x\" % in_val.data[21])\n",
    "            out_data0.extend(\"%02x\\r\\n\" % in_val.data[22])\n",
    "            OUT_str = \"\".join(out_data0)\n",
    "            self.output_0 = OUT_str\n",
    "\n",
    "        # print(OUT_str)\n",
    "\n",
    "        \n",
    "\n",
    "        # for i in range(0,data_size):\n",
    "\n",
    "        # out_data.append(self.input_0[5+i])\n",
    "\n",
    "        # else:\n",
    "\n",
    "        # self.output_0 = out_data0\n",
    "\n",
    "        \n",
    "\n",
    "        # Death() will be called once at diagram execution shutdown\n",
    "\n",
    "    def Death(self):\n",
    "        pass\n",
    "\n",
    " "
   ]
  },
  {
   "cell_type": "code",
   "execution_count": 9,
   "metadata": {},
   "outputs": [],
   "source": [
    "test = rtmaps_python()"
   ]
  },
  {
   "cell_type": "code",
   "execution_count": 10,
   "metadata": {},
   "outputs": [
    {
     "ename": "AttributeError",
     "evalue": "'rtmaps_python' object has no attribute 'input_0'",
     "output_type": "error",
     "traceback": [
      "\u001b[1;31m---------------------------------------------------------------------------\u001b[0m",
      "\u001b[1;31mAttributeError\u001b[0m                            Traceback (most recent call last)",
      "\u001b[1;32mC:\\Users\\SEHWAN~1\\AppData\\Local\\Temp/ipykernel_19584/4229440218.py\u001b[0m in \u001b[0;36m<module>\u001b[1;34m\u001b[0m\n\u001b[1;32m----> 1\u001b[1;33m \u001b[0mtest\u001b[0m\u001b[1;33m.\u001b[0m\u001b[0mCore\u001b[0m\u001b[1;33m(\u001b[0m\u001b[1;33m)\u001b[0m\u001b[1;33m\u001b[0m\u001b[1;33m\u001b[0m\u001b[0m\n\u001b[0m",
      "\u001b[1;32mC:\\Users\\SEHWAN~1\\AppData\\Local\\Temp/ipykernel_19584/1571938691.py\u001b[0m in \u001b[0;36mCore\u001b[1;34m(self)\u001b[0m\n\u001b[0;32m     22\u001b[0m         \u001b[1;31m# print(self.timestamp)\u001b[0m\u001b[1;33m\u001b[0m\u001b[1;33m\u001b[0m\u001b[1;33m\u001b[0m\u001b[0m\n\u001b[0;32m     23\u001b[0m \u001b[1;33m\u001b[0m\u001b[0m\n\u001b[1;32m---> 24\u001b[1;33m         \u001b[1;32mif\u001b[0m \u001b[0mself\u001b[0m\u001b[1;33m.\u001b[0m\u001b[0minput_0\u001b[0m\u001b[1;33m[\u001b[0m\u001b[1;36m0\u001b[0m\u001b[1;33m]\u001b[0m \u001b[1;33m==\u001b[0m \u001b[1;36m0x55\u001b[0m \u001b[1;32mand\u001b[0m \u001b[0mself\u001b[0m\u001b[1;33m.\u001b[0m\u001b[0minput_0\u001b[0m\u001b[1;33m[\u001b[0m\u001b[1;36m1\u001b[0m\u001b[1;33m]\u001b[0m \u001b[1;33m==\u001b[0m \u001b[1;36m85\u001b[0m \u001b[1;32mand\u001b[0m \u001b[0mself\u001b[0m\u001b[1;33m.\u001b[0m\u001b[0minput_0\u001b[0m\u001b[1;33m[\u001b[0m\u001b[1;36m2\u001b[0m\u001b[1;33m]\u001b[0m \u001b[1;33m==\u001b[0m \u001b[1;36m78\u001b[0m \u001b[1;32mand\u001b[0m \u001b[0mself\u001b[0m\u001b[1;33m.\u001b[0m\u001b[0minput_0\u001b[0m\u001b[1;33m[\u001b[0m\u001b[1;36m3\u001b[0m\u001b[1;33m]\u001b[0m \u001b[1;33m==\u001b[0m \u001b[1;36m49\u001b[0m\u001b[1;33m:\u001b[0m\u001b[1;33m\u001b[0m\u001b[1;33m\u001b[0m\u001b[0m\n\u001b[0m\u001b[0;32m     25\u001b[0m             \u001b[0min_val\u001b[0m \u001b[1;33m=\u001b[0m \u001b[0mself\u001b[0m\u001b[1;33m.\u001b[0m\u001b[0minput_0\u001b[0m\u001b[1;33m\u001b[0m\u001b[1;33m\u001b[0m\u001b[0m\n\u001b[0;32m     26\u001b[0m             \u001b[0mout_data0\u001b[0m\u001b[1;33m.\u001b[0m\u001b[0mextend\u001b[0m\u001b[1;33m(\u001b[0m\u001b[1;34m\"%q\"\u001b[0m \u001b[1;33m%\u001b[0m \u001b[0mself\u001b[0m\u001b[1;33m.\u001b[0m\u001b[0mtimestamp\u001b[0m\u001b[1;33m)\u001b[0m\u001b[1;33m\u001b[0m\u001b[1;33m\u001b[0m\u001b[0m\n",
      "\u001b[1;31mAttributeError\u001b[0m: 'rtmaps_python' object has no attribute 'input_0'"
     ]
    }
   ],
   "source": [
    "test.Core()"
   ]
  },
  {
   "cell_type": "code",
   "execution_count": null,
   "metadata": {},
   "outputs": [],
   "source": []
  }
 ],
 "metadata": {
  "interpreter": {
   "hash": "ddde1e1c6000e1d3034bec6257a8f68bed92c50866ae12a8382b98f1add9b5c2"
  },
  "kernelspec": {
   "display_name": "Python 3.9.5 64-bit",
   "language": "python",
   "name": "python3"
  },
  "language_info": {
   "codemirror_mode": {
    "name": "ipython",
    "version": 3
   },
   "file_extension": ".py",
   "mimetype": "text/x-python",
   "name": "python",
   "nbconvert_exporter": "python",
   "pygments_lexer": "ipython3",
   "version": "3.9.5"
  },
  "orig_nbformat": 4
 },
 "nbformat": 4,
 "nbformat_minor": 2
}
